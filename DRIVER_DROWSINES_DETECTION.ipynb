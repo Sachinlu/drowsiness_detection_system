{
 "cells": [
  {
   "cell_type": "code",
   "execution_count": 1,
   "id": "114a8c79",
   "metadata": {},
   "outputs": [
    {
     "name": "stderr",
     "output_type": "stream",
     "text": [
      "Using TensorFlow backend.\n"
     ]
    }
   ],
   "source": [
    "from keras.preprocessing import image\n",
    "from keras.models import Sequential, load_model\n",
    "from keras.layers import Dense, Dropout, MaxPooling2D, Flatten, Conv2D"
   ]
  },
  {
   "cell_type": "code",
   "execution_count": null,
   "id": "01fb3191",
   "metadata": {},
   "outputs": [],
   "source": [
    "def generator(dir, gen = image.ImageDataGenerator(rescale = 1./255), shuffle = True,\n",
    "            batch_size = 1, target_size=(24, 24), class_mode = 'categorical'):\n",
    "    return gen.flow_from_directory(dir,batch_size=batch_size, shuffle=shuffle, color_mode='grayscale',\n",
    "                                   class_mode=class_mode, target_size=target_size)"
   ]
  },
  {
   "cell_type": "code",
   "execution_count": null,
   "id": "8ed6b89a",
   "metadata": {},
   "outputs": [],
   "source": [
    "BS = 32\n",
    "TS = (24, 24)"
   ]
  },
  {
   "cell_type": "code",
   "execution_count": null,
   "id": "f8789683",
   "metadata": {},
   "outputs": [],
   "source": [
    "train_batch = generator('/Users/sachinsingh/Downloads/dataset_new/train/', shuffle=True, batch_size = BS, target_size = TS)\n",
    "valid_batch = generator('/Users/sachinsingh/Downloads/dataset_new/test/', shuffle=True, batch_size = BS, target_size = TS)"
   ]
  },
  {
   "cell_type": "code",
   "execution_count": null,
   "id": "6675bc09",
   "metadata": {},
   "outputs": [],
   "source": [
    "model = Sequential()"
   ]
  },
  {
   "cell_type": "code",
   "execution_count": null,
   "id": "1078b582",
   "metadata": {},
   "outputs": [],
   "source": [
    "model.add(Conv2D(32, kernel_size=(3, 3),activation='relu', input_shape=(24,24,1)))"
   ]
  },
  {
   "cell_type": "code",
   "execution_count": null,
   "id": "5654b585",
   "metadata": {},
   "outputs": [],
   "source": [
    "model.add(MaxPooling2D(pool_size=(1,1)))"
   ]
  },
  {
   "cell_type": "code",
   "execution_count": null,
   "id": "56358200",
   "metadata": {},
   "outputs": [],
   "source": [
    "model.add(Conv2D(32, (3, 3),activation='relu'))"
   ]
  },
  {
   "cell_type": "code",
   "execution_count": null,
   "id": "1c7b6ac0",
   "metadata": {},
   "outputs": [],
   "source": [
    "model.add(MaxPooling2D(pool_size=(1,1)))"
   ]
  },
  {
   "cell_type": "code",
   "execution_count": null,
   "id": "677f69ce",
   "metadata": {},
   "outputs": [],
   "source": [
    "model.add(Conv2D(64, (3, 3),activation='relu'))"
   ]
  },
  {
   "cell_type": "code",
   "execution_count": null,
   "id": "ef2c8601",
   "metadata": {},
   "outputs": [],
   "source": [
    "model.add(MaxPooling2D(pool_size=(1,1)))"
   ]
  },
  {
   "cell_type": "code",
   "execution_count": null,
   "id": "22668bc9",
   "metadata": {},
   "outputs": [],
   "source": [
    "model.add(Dropout(0.25))"
   ]
  },
  {
   "cell_type": "code",
   "execution_count": null,
   "id": "e40f0558",
   "metadata": {},
   "outputs": [],
   "source": [
    "model.add(Flatten())"
   ]
  },
  {
   "cell_type": "code",
   "execution_count": null,
   "id": "57adbf1e",
   "metadata": {},
   "outputs": [],
   "source": [
    "model.add(Dense(124, activation='relu'))"
   ]
  },
  {
   "cell_type": "code",
   "execution_count": null,
   "id": "7ce5e30a",
   "metadata": {},
   "outputs": [],
   "source": [
    "model.add(Dropout(0.5))"
   ]
  },
  {
   "cell_type": "code",
   "execution_count": null,
   "id": "cb0bc4c5",
   "metadata": {},
   "outputs": [],
   "source": [
    "model.add(Dense(2, activation='softmax'))"
   ]
  },
  {
   "cell_type": "code",
   "execution_count": null,
   "id": "422d1e0b",
   "metadata": {},
   "outputs": [],
   "source": [
    "model.compile(optimizer='adam',loss='categorical_crossentropy',metrics=['accuracy'])"
   ]
  },
  {
   "cell_type": "code",
   "execution_count": null,
   "id": "1421d580",
   "metadata": {},
   "outputs": [],
   "source": [
    "SPE = len(train_batch.classes)//BS"
   ]
  },
  {
   "cell_type": "code",
   "execution_count": null,
   "id": "63d03b40",
   "metadata": {},
   "outputs": [],
   "source": [
    "SPE"
   ]
  },
  {
   "cell_type": "code",
   "execution_count": null,
   "id": "bffa260f",
   "metadata": {},
   "outputs": [],
   "source": [
    "VS = len(valid_batch.classes)//BS"
   ]
  },
  {
   "cell_type": "code",
   "execution_count": null,
   "id": "848b9c63",
   "metadata": {},
   "outputs": [],
   "source": [
    "model.fit_generator(train_batch, validation_data=valid_batch, epochs=15, steps_per_epoch=SPE , validation_steps=VS)"
   ]
  },
  {
   "cell_type": "code",
   "execution_count": null,
   "id": "d602e3dd",
   "metadata": {},
   "outputs": [],
   "source": [
    "model.save('/Users/sachinsingh/Downloads/dataset_new/drive_model.h5', overwrite=True)"
   ]
  },
  {
   "cell_type": "code",
   "execution_count": 37,
   "id": "dfb7ee1f",
   "metadata": {},
   "outputs": [],
   "source": [
    "import cv2"
   ]
  },
  {
   "cell_type": "code",
   "execution_count": 38,
   "id": "b93e6af6",
   "metadata": {},
   "outputs": [],
   "source": [
    "from pygame import mixer"
   ]
  },
  {
   "cell_type": "code",
   "execution_count": 39,
   "id": "86e6eb7f",
   "metadata": {},
   "outputs": [],
   "source": [
    "model1 = load_model('/Users/sachinsingh/Downloads/dataset_new/drive_model.h5')"
   ]
  },
  {
   "cell_type": "code",
   "execution_count": 40,
   "id": "ee14f61c",
   "metadata": {},
   "outputs": [],
   "source": [
    "import numpy as np"
   ]
  },
  {
   "cell_type": "code",
   "execution_count": 41,
   "id": "df820226",
   "metadata": {},
   "outputs": [],
   "source": [
    "face = cv2.CascadeClassifier('/Users/sachinsingh/Downloads/cascade/haarcascade_frontalface_alt.xml')"
   ]
  },
  {
   "cell_type": "code",
   "execution_count": 42,
   "id": "2a453f5d",
   "metadata": {},
   "outputs": [],
   "source": [
    "leye = cv2.CascadeClassifier('/Users/sachinsingh/Downloads/cascade/haarcascade_lefteye_2splits.xml')"
   ]
  },
  {
   "cell_type": "code",
   "execution_count": 43,
   "id": "c9242f4b",
   "metadata": {},
   "outputs": [],
   "source": [
    "reye = cv2.CascadeClassifier('/Users/sachinsingh/Downloads/cascade/haarcascade_righteye_2splits.xml')"
   ]
  },
  {
   "cell_type": "code",
   "execution_count": 44,
   "id": "6b04c04c",
   "metadata": {},
   "outputs": [],
   "source": [
    "mixer.init()\n",
    "sound = mixer.Sound('/Users/sachinsingh/Downloads/135613__danielnieto7__alert.wav')"
   ]
  },
  {
   "cell_type": "code",
   "execution_count": 47,
   "id": "608f7164",
   "metadata": {},
   "outputs": [],
   "source": [
    "score = 0\n",
    "font = cv2.FONT_HERSHEY_COMPLEX_SMALL\n",
    "rpred = []\n",
    "lpred = []"
   ]
  },
  {
   "cell_type": "code",
   "execution_count": 50,
   "id": "03a1a7f7",
   "metadata": {},
   "outputs": [
    {
     "name": "stderr",
     "output_type": "stream",
     "text": [
      "OpenCV: out device of bound (0-0): 1\n",
      "OpenCV: camera failed to properly initialize!\n"
     ]
    },
    {
     "ename": "AttributeError",
     "evalue": "'NoneType' object has no attribute 'shape'",
     "output_type": "error",
     "traceback": [
      "\u001b[0;31m---------------------------------------------------------------------------\u001b[0m",
      "\u001b[0;31mAttributeError\u001b[0m                            Traceback (most recent call last)",
      "\u001b[0;32m/var/folders/7m/w74rq0bs32g58hj2w0fd4rrh0000gn/T/ipykernel_1251/1993973572.py\u001b[0m in \u001b[0;36m<module>\u001b[0;34m\u001b[0m\n\u001b[1;32m      4\u001b[0m \u001b[0;34m\u001b[0m\u001b[0m\n\u001b[1;32m      5\u001b[0m     \u001b[0mret\u001b[0m\u001b[0;34m,\u001b[0m \u001b[0mframe\u001b[0m \u001b[0;34m=\u001b[0m \u001b[0mcap\u001b[0m\u001b[0;34m.\u001b[0m\u001b[0mread\u001b[0m\u001b[0;34m(\u001b[0m\u001b[0;34m)\u001b[0m\u001b[0;34m\u001b[0m\u001b[0;34m\u001b[0m\u001b[0m\n\u001b[0;32m----> 6\u001b[0;31m     \u001b[0mheight\u001b[0m\u001b[0;34m,\u001b[0m \u001b[0mweight\u001b[0m \u001b[0;34m=\u001b[0m \u001b[0mframe\u001b[0m\u001b[0;34m.\u001b[0m\u001b[0mshape\u001b[0m\u001b[0;34m[\u001b[0m\u001b[0;34m:\u001b[0m\u001b[0;36m2\u001b[0m\u001b[0;34m]\u001b[0m\u001b[0;34m\u001b[0m\u001b[0;34m\u001b[0m\u001b[0m\n\u001b[0m\u001b[1;32m      7\u001b[0m     \u001b[0mgray\u001b[0m \u001b[0;34m=\u001b[0m \u001b[0mcv2\u001b[0m\u001b[0;34m.\u001b[0m\u001b[0mcvtColor\u001b[0m\u001b[0;34m(\u001b[0m\u001b[0mframe\u001b[0m\u001b[0;34m,\u001b[0m \u001b[0mcv2\u001b[0m\u001b[0;34m.\u001b[0m\u001b[0mCOLOR_BGR2GRAY\u001b[0m\u001b[0;34m)\u001b[0m\u001b[0;34m\u001b[0m\u001b[0;34m\u001b[0m\u001b[0m\n\u001b[1;32m      8\u001b[0m     \u001b[0mfaces\u001b[0m \u001b[0;34m=\u001b[0m \u001b[0mface\u001b[0m\u001b[0;34m.\u001b[0m\u001b[0mdetectMultiScale\u001b[0m\u001b[0;34m(\u001b[0m\u001b[0mgray\u001b[0m\u001b[0;34m,\u001b[0m \u001b[0mminNeighbors\u001b[0m\u001b[0;34m=\u001b[0m\u001b[0;36m5\u001b[0m\u001b[0;34m,\u001b[0m \u001b[0mscaleFactor\u001b[0m\u001b[0;34m=\u001b[0m\u001b[0;36m1.1\u001b[0m\u001b[0;34m,\u001b[0m \u001b[0mminSize\u001b[0m\u001b[0;34m=\u001b[0m\u001b[0;34m(\u001b[0m\u001b[0;36m25\u001b[0m\u001b[0;34m,\u001b[0m\u001b[0;36m25\u001b[0m\u001b[0;34m)\u001b[0m\u001b[0;34m)\u001b[0m\u001b[0;34m\u001b[0m\u001b[0;34m\u001b[0m\u001b[0m\n",
      "\u001b[0;31mAttributeError\u001b[0m: 'NoneType' object has no attribute 'shape'"
     ]
    }
   ],
   "source": [
    "cap = cv2.VideoCapture(1)\n",
    "\n",
    "while True:\n",
    "    \n",
    "    ret, frame = cap.read()\n",
    "    height, weight = frame.shape[:2]\n",
    "    gray = cv2.cvtColor(frame, cv2.COLOR_BGR2GRAY)\n",
    "    faces = face.detectMultiScale(gray, minNeighbors=5, scaleFactor=1.1, minSize=(25,25))\n",
    "    left_eye = leye.detectMultiScale(gray)\n",
    "    right_eye =  reye.detectMultiScale(gray)\n",
    "\n",
    "    cv2.rectangle(frame, (0,0), (0, 0), (0,0,0) , thickness=cv2.FILLED )\n",
    "\n",
    "    for (x,y,w,h) in faces:\n",
    "        \n",
    "        cv2.rectangle(frame, (x, y) , (x+w,y+h) , (100,100,100) , 1)\n",
    "        \n",
    "    for (x,y,w,h) in right_eye:\n",
    "        \n",
    "        r_eye = frame[y:y+h,x:x+w]\n",
    "        r_eye = cv2.cvtColor(r_eye,cv2.COLOR_BGR2GRAY)\n",
    "        r_eye = cv2.resize(r_eye,(24,24))\n",
    "        r_eye = r_eye/255\n",
    "        r_eye = r_eye.reshape(24,24,-1)\n",
    "        r_eye = np.expand_dims(r_eye, axis=0)\n",
    "        rpred = model1.predict_classes(r_eye)\n",
    "        break\n",
    "    \n",
    "    for (x,y,w,h) in left_eye:\n",
    "        \n",
    "        l_eye = frame[y:y+h, x:x+w]\n",
    "        l_eye = cv2.cvtColor(l_eye, cv2.COLOR_BGR2GRAY)\n",
    "        l_eye = cv2.resize(l_eye,(24,24))\n",
    "        l_eye = l_eye/255\n",
    "        l_eye = l_eye.reshape(24,24,-1)\n",
    "        l_eye = np.expand_dims(l_eye, axis=0)\n",
    "        lpred = model1.predict_classes(l_eye)\n",
    "        break\n",
    "    \n",
    "#     print(lpred[0], rpred[0])\n",
    "    \n",
    "    if (lpred[0] == 0 & rpred[0] == 0) :\n",
    "        score=score+1\n",
    "        cv2.putText(frame, \"Closed\", (10,height-20), font, 1,(255,255,255),1,cv2.LINE_AA)\n",
    "\n",
    "    else:\n",
    "        score=score-2\n",
    "        cv2.putText(frame, \"Open\", (10,height-20), font, 1,(255,255,255),1,cv2.LINE_AA)\n",
    "    \n",
    "    if(score < 0):\n",
    "        score=0\n",
    "        \n",
    "    cv2.putText(frame,'Score:'+str(score),(100,height-20), font, 1, (255,255,255), 1, cv2.LINE_AA)\n",
    "    \n",
    "    if(score > 10):\n",
    "        #person is feeling sleepy so we beep the alarm\n",
    "        try:\n",
    "            sound.play()\n",
    "        except:  \n",
    "            pass\n",
    "        \n",
    "    cv2.imshow(\"frame\", frame)\n",
    "    if cv2.waitKey(1) & 0xFF == ord('q'):\n",
    "        break \n",
    "\n",
    "cap.release()\n",
    "cv2.destroyAllWindows()        "
   ]
  },
  {
   "cell_type": "code",
   "execution_count": null,
   "id": "fb02b2dd",
   "metadata": {},
   "outputs": [],
   "source": []
  },
  {
   "cell_type": "code",
   "execution_count": null,
   "id": "7cfa580b",
   "metadata": {},
   "outputs": [],
   "source": []
  }
 ],
 "metadata": {
  "kernelspec": {
   "display_name": "Python 3 (ipykernel)",
   "language": "python",
   "name": "python3"
  },
  "language_info": {
   "codemirror_mode": {
    "name": "ipython",
    "version": 3
   },
   "file_extension": ".py",
   "mimetype": "text/x-python",
   "name": "python",
   "nbconvert_exporter": "python",
   "pygments_lexer": "ipython3",
   "version": "3.7.11"
  }
 },
 "nbformat": 4,
 "nbformat_minor": 5
}
